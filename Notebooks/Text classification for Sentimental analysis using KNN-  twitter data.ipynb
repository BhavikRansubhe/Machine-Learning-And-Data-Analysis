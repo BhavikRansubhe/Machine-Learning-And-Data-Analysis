{
 "cells": [
  {
   "cell_type": "markdown",
   "metadata": {},
   "source": [
    "# NAME     : Bhavik Ransubhe\n",
    "# CLASS    : B.E (B) COMPUTER\n",
    "# ROLL No. : 41261"
   ]
  },
  {
   "cell_type": "markdown",
   "metadata": {
    "id": "LLnAY0tN39ah"
   },
   "source": [
    "## MLDS \n",
    "### Assignment No. 4 : Text classification for Sentimental analysis using KNN- use twitter data"
   ]
  },
  {
   "cell_type": "code",
   "execution_count": 1,
   "metadata": {
    "id": "8oJme5OKnEgn"
   },
   "outputs": [],
   "source": [
    "import pandas as pd\n",
    "import re\n",
    "import numpy as np\n",
    "import scipy\n",
    "import itertools\n",
    "import matplotlib\n",
    "import matplotlib.pyplot as plt\n",
    "import warnings\n",
    "from scipy.spatial.distance import cdist\n",
    "from collections import Counter\n",
    "from random import choice"
   ]
  },
  {
   "cell_type": "code",
   "execution_count": 2,
   "metadata": {
    "colab": {
     "base_uri": "https://localhost:8080/"
    },
    "id": "eaJscaWcwGUV",
    "outputId": "42165c8f-4aa0-4721-fdf9-d1e2d09297e4"
   },
   "outputs": [
    {
     "name": "stdout",
     "output_type": "stream",
     "text": [
      "  Sentiment                                              Tweet\n",
      "0   neutral  @united 877 from amsterdam to ewr, 02.27.2015,...\n",
      "1  negative       @united IT-problems with the link? #3thparty\n",
      "2  positive  @united -today the staff @ MSP took customer s...\n",
      "3  negative  @AmericanAir but have been yet to receive assi...\n",
      "4  negative  @SouthwestAir  you won't let me change my rese...\n",
      "  Sentiment                                              Tweet\n",
      "0   neutral  @VirginAmerica to jump into the Dallas-Austin ...\n",
      "1  positive  @AmericanAir Chicago seen from seat 6A, AA 162...\n",
      "2  negative    @united you need a bag bouncer. Get it together\n",
      "3  negative  @JetBlue Hey Jetblue, you stranded an entire p...\n",
      "4  negative  @USAirways Big fail on not having curbside bag...\n"
     ]
    }
   ],
   "source": [
    "# Storing the training and test datasets into their respective dataframes\n",
    "trained = pd.read_csv('train.csv')\n",
    "test = pd.read_csv('test.csv')\n",
    "print(trained.head())\n",
    "print(test.head())"
   ]
  },
  {
   "cell_type": "markdown",
   "metadata": {
    "id": "c3kxW2zZ53_c"
   },
   "source": [
    "Data Preprocessing we have to remove the stop words, punctuation marks and other unwanted characters from the tweets and convert them to lower case."
   ]
  },
  {
   "cell_type": "code",
   "execution_count": 3,
   "metadata": {
    "colab": {
     "base_uri": "https://localhost:8080/"
    },
    "id": "oTGRY3euwSYO",
    "outputId": "47f6a813-55e1-4c61-8fe2-740cfde47bb3"
   },
   "outputs": [],
   "source": [
    "trained['Tweet'] = trained['Tweet'].str.lower() # Ensuring all words in the Tweet column of training data are lowercased\n",
    "test['Tweet'] = test['Tweet'].str.lower() # Ensuring all words in the Tweet column of test data are lowercased"
   ]
  },
  {
   "cell_type": "code",
   "execution_count": 4,
   "metadata": {
    "colab": {
     "base_uri": "https://localhost:8080/"
    },
    "id": "6muC0EOvYbE7",
    "outputId": "ba4e7af8-b41a-4e91-b51e-0a0e220d5906"
   },
   "outputs": [
    {
     "name": "stdout",
     "output_type": "stream",
     "text": [
      "  Sentiment                                              Tweet\n",
      "0   neutral  @united 877 from amsterdam to ewr, 02.27.2015,...\n",
      "1  negative       @united it-problems with the link? #3thparty\n",
      "2  positive  @united -today the staff @ msp took customer s...\n",
      "3  negative  @americanair but have been yet to receive assi...\n",
      "4  negative  @southwestair  you won't let me change my rese...\n",
      "  Sentiment                                              Tweet\n",
      "0   neutral  @virginamerica to jump into the dallas-austin ...\n",
      "1  positive  @americanair chicago seen from seat 6a, aa 162...\n",
      "2  negative    @united you need a bag bouncer. get it together\n",
      "3  negative  @jetblue hey jetblue, you stranded an entire p...\n",
      "4  negative  @usairways big fail on not having curbside bag...\n"
     ]
    }
   ],
   "source": [
    "print(trained.head())\n",
    "print(test.head())"
   ]
  },
  {
   "cell_type": "code",
   "execution_count": 5,
   "metadata": {
    "id": "khQuKKVcwYDF"
   },
   "outputs": [],
   "source": [
    "# Parsing the stop_words.txt file and storing all the words in a list.\n",
    "stopwords = []\n",
    "with open('stopwords.txt','r') as file:    \n",
    "    for line in file:         \n",
    "        for word in line.split():            \n",
    "            stopwords.append(word)"
   ]
  },
  {
   "cell_type": "code",
   "execution_count": 6,
   "metadata": {
    "colab": {
     "base_uri": "https://localhost:8080/"
    },
    "id": "tLYqph5Mwa9M",
    "outputId": "86cb7ed6-426a-4453-87dd-4aaf37d88864"
   },
   "outputs": [
    {
     "name": "stdout",
     "output_type": "stream",
     "text": [
      "  Sentiment                                              Tweet\n",
      "0   neutral    @united 877 amsterdam ewr, 02.27.2015, 737-300.\n",
      "1  negative                @united it-problems link? #3thparty\n",
      "2  positive  @united -today staff @ msp took customer servi...\n",
      "3  negative  @americanair receive assistance agents securin...\n",
      "4  negative  @southwestair won't let change reservation onl...\n"
     ]
    }
   ],
   "source": [
    "# Removing all stopwords from all the tweets in training data.\n",
    "trained[\"Tweet\"] = trained[\"Tweet\"].apply(lambda func: ' '.join(sw \n",
    "                                          for sw in func.split() \n",
    "                                          if sw not in stopwords))\n",
    "\n",
    "# Removing all stopwords from all the tweets in test data.\n",
    "test[\"Tweet\"] = test[\"Tweet\"].apply(lambda func: ' '.join(sw \n",
    "                                          for sw in func.split() \n",
    "                                          if sw not in stopwords))\n",
    "print(trained.head())"
   ]
  },
  {
   "cell_type": "code",
   "execution_count": 7,
   "metadata": {
    "id": "fzQBS3gbwfr8"
   },
   "outputs": [],
   "source": [
    "#List of all special characters that are to be removed.\n",
    "special_chars = [\"!\",'\"',\"%\",\"&\",\"amp\",\"'\",\"(\",\")\", \"*\",\"+\",\",\",\"-\",\".\",\n",
    "                 \"/\",\":\",\";\",\"<\",\"=\",\">\",\"?\",\"[\",\"\\\\\",\"]\",\"^\",\"_\",\n",
    "                 \"`\",\"{\",\"|\",\"}\",\"~\",\"–\",\"@\",\"#\",\"$\"]"
   ]
  },
  {
   "cell_type": "code",
   "execution_count": 8,
   "metadata": {
    "colab": {
     "base_uri": "https://localhost:8080/"
    },
    "id": "RQd-f5clwgls",
    "outputId": "62a5bc79-0e1e-4b48-aaa9-17f587228320"
   },
   "outputs": [],
   "source": [
    "\n",
    "#Training Data\n",
    "trained['Tweet'] = trained['Tweet'].str.replace(r'http?://[^\\s<>\"]+|www\\.[^\\s<>\"]+', '') # Removing hyperlinks from all the tweets. They are not needed for classification.\n",
    "trained['Tweet'] = trained['Tweet'].str.replace('@[A-Za-z0-9]+', '') # Removing usernames from all the tweets.\n",
    "trained['Tweet'] = trained['Tweet'].str.replace(r'\\B#\\w*[a-zA-Z]+\\w*', '') # Removing hashtags, including the text, from all the tweets. Hashtags are useless since their words cannot be splitted with spaces.\n",
    "trained['Tweet'] = trained['Tweet'].str.replace('\\d+', '') # Removing numbers from all the tweets. They will not assist in any way to improve the classification process.\n",
    "\n",
    "for c in special_chars:\n",
    "    trained['Tweet'] = trained['Tweet'].str.replace(c,'') # Removing all special characters from all the tweets\n",
    "\n",
    "#Test Data\n",
    "test['Tweet'] = test['Tweet'].str.replace(r'http?://[^\\s<>\"]+|www\\.[^\\s<>\"]+', '') # Removing hyperlinks from all the tweets\n",
    "test['Tweet'] = test['Tweet'].str.replace('@[A-Za-z0-9]+', '') # Removing usernames from all the tweets.\n",
    "test['Tweet'] = test['Tweet'].str.replace(r'\\B#\\w*[a-zA-Z]+\\w*', '') # Removing hashtags, including the text, from all the tweets\n",
    "test['Tweet'] = test['Tweet'].str.replace('\\d+', '') # Removing numbers from all the tweets\n",
    "\n",
    "for c in special_chars:\n",
    "    test['Tweet'] = test['Tweet'].str.replace(c,'') # Removing all special characters from all the tweets"
   ]
  },
  {
   "cell_type": "code",
   "execution_count": 9,
   "metadata": {
    "colab": {
     "base_uri": "https://localhost:8080/"
    },
    "id": "Y8j2UhjAwj79",
    "outputId": "f0e8610d-79ec-4af6-b440-e354db5e8248"
   },
   "outputs": [
    {
     "name": "stdout",
     "output_type": "stream",
     "text": [
      "  Sentiment                                              Tweet\n",
      "0   neutral                                    amsterdam ewr  \n",
      "1  negative                                   itproblems link \n",
      "2  positive   today staff  msp took customer service new le...\n",
      "3  negative   receive assistance agents securing new connec...\n",
      "4  negative   wont let change reservation online now im jus...\n"
     ]
    }
   ],
   "source": [
    "print(trained.head())"
   ]
  },
  {
   "cell_type": "code",
   "execution_count": 10,
   "metadata": {
    "colab": {
     "base_uri": "https://localhost:8080/"
    },
    "id": "mSFnEBh5wpdk",
    "outputId": "45bf3b93-a5ce-4508-c07a-1ac43bce2ed4"
   },
   "outputs": [
    {
     "name": "stdout",
     "output_type": "stream",
     "text": [
      "  Sentiment                                              Tweet\n",
      "0   neutral                    jump dallasaustin market  news \n",
      "1  positive        chicago seen seat a aa  far great ride pdx \n",
      "2  negative                                   need bag bouncer\n",
      "3  negative   hey jetblue stranded entire plane supposed jf...\n",
      "4  negative   big fail curbside baggage pittsburgh charge  ...\n"
     ]
    }
   ],
   "source": [
    "print(test.head())"
   ]
  },
  {
   "cell_type": "code",
   "execution_count": 11,
   "metadata": {
    "colab": {
     "base_uri": "https://localhost:8080/"
    },
    "id": "k5sHwnR_wsdc",
    "outputId": "5379e32f-e0fb-4107-a5fd-8106f2ac1615"
   },
   "outputs": [
    {
     "name": "stdout",
     "output_type": "stream",
     "text": [
      "Unique words in Training Data: 9955\n",
      "Unique words in Test Data: 4749\n"
     ]
    }
   ],
   "source": [
    "#Training Data\n",
    "train_unique = (list(set(trained['Tweet'].str.findall(\"\\w+\").sum()))) # Finding all the unique words in training data's Tweet column\n",
    "train_unique_words = len(train_unique)\n",
    "\n",
    "#Test Data\n",
    "test_unique = (list(set(test['Tweet'].str.findall(\"\\w+\").sum()))) # Finding all the unique words in test data's Tweet column\n",
    "test_unique_words = len(test_unique)\n",
    "\n",
    "print(\"Unique words in Training Data: {}\".format(train_unique_words))\n",
    "print(\"Unique words in Test Data: {}\".format(test_unique_words))"
   ]
  },
  {
   "cell_type": "markdown",
   "metadata": {
    "id": "9kY7hpc8wwqV"
   },
   "source": [
    "**Feature Extraction**"
   ]
  },
  {
   "cell_type": "code",
   "execution_count": 12,
   "metadata": {
    "id": "49QSS_njw0Et"
   },
   "outputs": [],
   "source": [
    "#Training Data\n",
    "train_matrix = [] # Forming a 2D matrix to store all training feature vectors\n",
    "\n",
    "#Test Data\n",
    "test_matrix = [] # Forming a 2D matrix to store all test feature vectors"
   ]
  },
  {
   "cell_type": "code",
   "execution_count": 13,
   "metadata": {
    "id": "2FUfAmqzw2yd"
   },
   "outputs": [],
   "source": [
    "#Training Data: Extracting features and storing them into the training feature matrix\n",
    "for sentence in trained['Tweet']:\n",
    "    train_featurevec = []\n",
    "    word = sentence.split()\n",
    "    for w in train_unique:\n",
    "        train_featurevec.append(word.count(w))\n",
    "    train_matrix.append(train_featurevec)\n",
    "\n",
    "#Test Data: Extracting features and storing them into the test feature matrix\n",
    "for sentence in test['Tweet']:\n",
    "    test_featurevec = []\n",
    "    word = sentence.split()\n",
    "    for w in train_unique:\n",
    "        test_featurevec.append(word.count(w))\n",
    "    test_matrix.append(test_featurevec)"
   ]
  },
  {
   "cell_type": "code",
   "execution_count": 14,
   "metadata": {
    "colab": {
     "base_uri": "https://localhost:8080/"
    },
    "id": "yS80eTMbw3v0",
    "outputId": "32bf910e-5db2-4e03-a1c4-da43e1a291c2"
   },
   "outputs": [
    {
     "name": "stdout",
     "output_type": "stream",
     "text": [
      "Shape of Training Matrix: (11680 , 9955)\n",
      "11680\n",
      "Shape of Test Matrix: (2921 , 9955)\n"
     ]
    }
   ],
   "source": [
    "print(\"Shape of Training Matrix: ({0} , {1})\".format(len(train_matrix),len(train_matrix[0])))\n",
    "print(len(train_matrix))\n",
    "print(\"Shape of Test Matrix: ({0} , {1})\".format(len(test_matrix),len(test_matrix[0])))"
   ]
  },
  {
   "cell_type": "markdown",
   "metadata": {
    "id": "rvoInrWNxHha"
   },
   "source": [
    "**KNN**"
   ]
  },
  {
   "cell_type": "code",
   "execution_count": 15,
   "metadata": {
    "id": "EkUwTn60nk79"
   },
   "outputs": [],
   "source": [
    "from sklearn.preprocessing import StandardScaler\n",
    "from sklearn.neighbors import KNeighborsClassifier\n",
    "from sklearn import metrics\n",
    "from sklearn.metrics import classification_report, confusion_matrix\n",
    "\n",
    "#Initializing lists to be used in plotting later.\n",
    "acc_list = []\n",
    "rec_list = []\n",
    "prec_list = []\n",
    "f1_list = []"
   ]
  },
  {
   "cell_type": "code",
   "execution_count": 16,
   "metadata": {
    "id": "Yr7s7Fy7oP5C"
   },
   "outputs": [],
   "source": [
    "def classifying(trainfeatures,testfeatures):\n",
    "\n",
    "  X_train = trainfeatures #train_matrix - 2D feature vector\n",
    "  X_test = testfeatures #test_matrix - 2D feature vector\n",
    "  y_train = trained.iloc[:,0].values #trained['Sentiment]\n",
    "  y_test = test.iloc[:,0].values #test['Sentiment]\n",
    "\n",
    "  for k in [1,3,5,7,10]:\n",
    "\n",
    "    classifier = KNeighborsClassifier(n_neighbors=k,algorithm='brute') #Using brute-force algorithm for quicker computation.\n",
    "    classifier.fit(X_train, y_train) #Fitting the built-in sklearn classifier on our training data\n",
    "    predicted_label = classifier.predict(X_test) #Making the classifier to predict on the previously unseen test data.\n",
    "\n",
    "    accuracy_score = (metrics.accuracy_score(y_test,predicted_label))\n",
    "    accuracy_score = (round(accuracy_score,2))*100\n",
    "    acc_list.append(accuracy_score)\n",
    "\n",
    "    confusion_mat = confusion_matrix(y_test, predicted_label)\n",
    "    class_report = classification_report(y_test, predicted_label)\n",
    "\n",
    "    macro_precision = (metrics.precision_score(y_test, predicted_label, average='macro'))\n",
    "    macro_precision = (round(macro_precision,2))*100\n",
    "    prec_list.append(macro_precision)\n",
    "\n",
    "    macro_recall = (metrics.recall_score(y_test, predicted_label, average='macro'))\n",
    "    macro_recall = (round(macro_recall,2))*100\n",
    "    rec_list.append(macro_recall)\n",
    "    \n",
    "    macro_f1 = (metrics.f1_score(y_test, predicted_label, average='macro'))\n",
    "    macro_f1 = (round(macro_f1,2))*100\n",
    "    f1_list.append(macro_f1)\n",
    "\n",
    "    print(\"\\n\\nConfusion Matrix for k = {} is:\\n\".format(k))\n",
    "    print(confusion_mat)\n",
    "    print(\"\\nClassification Report for k = {} is:\\n\".format(k))\n",
    "    print(class_report)\n",
    "    print(\"Accuracy Score for k = {0} is: {1}%\".format(k,accuracy_score))\n",
    "    print(\"Macroaveraged Recall for k = {0} is: {1}%\".format(k,macro_recall))\n",
    "    print(\"Macroaveraged Precision for k = {0} is: {1}%\".format(k,macro_precision))\n",
    "    print(\"Macroaveraged F1-score for k = {0} is: {1}%\".format(k,macro_f1))"
   ]
  },
  {
   "cell_type": "code",
   "execution_count": 17,
   "metadata": {
    "colab": {
     "base_uri": "https://localhost:8080/"
    },
    "id": "fBAHXoiA4CNg",
    "outputId": "db168dd3-e5c6-4982-bf7f-e906abea9160"
   },
   "outputs": [
    {
     "name": "stdout",
     "output_type": "stream",
     "text": [
      "\n",
      "\n",
      "Confusion Matrix for k = 1 is:\n",
      "\n",
      "[[774 877 183]\n",
      " [ 77 455  83]\n",
      " [ 51 192 229]]\n",
      "\n",
      "Classification Report for k = 1 is:\n",
      "\n",
      "              precision    recall  f1-score   support\n",
      "\n",
      "    negative       0.86      0.42      0.57      1834\n",
      "     neutral       0.30      0.74      0.43       615\n",
      "    positive       0.46      0.49      0.47       472\n",
      "\n",
      "    accuracy                           0.50      2921\n",
      "   macro avg       0.54      0.55      0.49      2921\n",
      "weighted avg       0.68      0.50      0.52      2921\n",
      "\n",
      "Accuracy Score for k = 1 is: 50.0%\n",
      "Macroaveraged Recall for k = 1 is: 55.00000000000001%\n",
      "Macroaveraged Precision for k = 1 is: 54.0%\n",
      "Macroaveraged F1-score for k = 1 is: 49.0%\n",
      "\n",
      "\n",
      "Confusion Matrix for k = 3 is:\n",
      "\n",
      "[[ 690 1045   99]\n",
      " [  56  502   57]\n",
      " [  47  203  222]]\n",
      "\n",
      "Classification Report for k = 3 is:\n",
      "\n",
      "              precision    recall  f1-score   support\n",
      "\n",
      "    negative       0.87      0.38      0.53      1834\n",
      "     neutral       0.29      0.82      0.42       615\n",
      "    positive       0.59      0.47      0.52       472\n",
      "\n",
      "    accuracy                           0.48      2921\n",
      "   macro avg       0.58      0.55      0.49      2921\n",
      "weighted avg       0.70      0.48      0.50      2921\n",
      "\n",
      "Accuracy Score for k = 3 is: 48.0%\n",
      "Macroaveraged Recall for k = 3 is: 55.00000000000001%\n",
      "Macroaveraged Precision for k = 3 is: 57.99999999999999%\n",
      "Macroaveraged F1-score for k = 3 is: 49.0%\n",
      "\n",
      "\n",
      "Confusion Matrix for k = 5 is:\n",
      "\n",
      "[[777 956 101]\n",
      " [ 82 474  59]\n",
      " [ 43 192 237]]\n",
      "\n",
      "Classification Report for k = 5 is:\n",
      "\n",
      "              precision    recall  f1-score   support\n",
      "\n",
      "    negative       0.86      0.42      0.57      1834\n",
      "     neutral       0.29      0.77      0.42       615\n",
      "    positive       0.60      0.50      0.55       472\n",
      "\n",
      "    accuracy                           0.51      2921\n",
      "   macro avg       0.58      0.57      0.51      2921\n",
      "weighted avg       0.70      0.51      0.53      2921\n",
      "\n",
      "Accuracy Score for k = 5 is: 51.0%\n",
      "Macroaveraged Recall for k = 5 is: 56.99999999999999%\n",
      "Macroaveraged Precision for k = 5 is: 57.99999999999999%\n",
      "Macroaveraged F1-score for k = 5 is: 51.0%\n",
      "\n",
      "\n",
      "Confusion Matrix for k = 7 is:\n",
      "\n",
      "[[ 684 1042  108]\n",
      " [  52  509   54]\n",
      " [  37  193  242]]\n",
      "\n",
      "Classification Report for k = 7 is:\n",
      "\n",
      "              precision    recall  f1-score   support\n",
      "\n",
      "    negative       0.88      0.37      0.52      1834\n",
      "     neutral       0.29      0.83      0.43       615\n",
      "    positive       0.60      0.51      0.55       472\n",
      "\n",
      "    accuracy                           0.49      2921\n",
      "   macro avg       0.59      0.57      0.50      2921\n",
      "weighted avg       0.71      0.49      0.51      2921\n",
      "\n",
      "Accuracy Score for k = 7 is: 49.0%\n",
      "Macroaveraged Recall for k = 7 is: 56.99999999999999%\n",
      "Macroaveraged Precision for k = 7 is: 59.0%\n",
      "Macroaveraged F1-score for k = 7 is: 50.0%\n",
      "\n",
      "\n",
      "Confusion Matrix for k = 10 is:\n",
      "\n",
      "[[ 628 1098  108]\n",
      " [  36  523   56]\n",
      " [  28  204  240]]\n",
      "\n",
      "Classification Report for k = 10 is:\n",
      "\n",
      "              precision    recall  f1-score   support\n",
      "\n",
      "    negative       0.91      0.34      0.50      1834\n",
      "     neutral       0.29      0.85      0.43       615\n",
      "    positive       0.59      0.51      0.55       472\n",
      "\n",
      "    accuracy                           0.48      2921\n",
      "   macro avg       0.60      0.57      0.49      2921\n",
      "weighted avg       0.73      0.48      0.49      2921\n",
      "\n",
      "Accuracy Score for k = 10 is: 48.0%\n",
      "Macroaveraged Recall for k = 10 is: 56.99999999999999%\n",
      "Macroaveraged Precision for k = 10 is: 60.0%\n",
      "Macroaveraged F1-score for k = 10 is: 49.0%\n"
     ]
    }
   ],
   "source": [
    "classifying(train_matrix,test_matrix)"
   ]
  },
  {
   "cell_type": "code",
   "execution_count": 18,
   "metadata": {
    "colab": {
     "base_uri": "https://localhost:8080/",
     "height": 534
    },
    "id": "5MIeVtfRuXoA",
    "outputId": "8f3257ed-c3fc-4f4a-c1a5-e48ea69d8c9c"
   },
   "outputs": [
    {
     "data": {
      "text/plain": [
       "<function matplotlib.pyplot.show(*args, **kw)>"
      ]
     },
     "execution_count": 18,
     "metadata": {},
     "output_type": "execute_result"
    },
    {
     "data": {
      "image/png": "[encoded data removed]",
      "text/plain": [
       "<Figure size 864x576 with 4 Axes>"
      ]
     },
     "metadata": {
      "needs_background": "light"
     },
     "output_type": "display_data"
    }
   ],
   "source": [
    "k_ls = [1,3,5,7,10] \n",
    "\n",
    "fig = plt.figure(figsize=(12,8))\n",
    "\n",
    "plt.subplot(2,2,1)\n",
    "plt.plot(k_ls,acc_list)\n",
    "plt.title(\"Accuracy as KNN increase\",fontsize='x-large')\n",
    "plt.xlabel(\"k Nearest Neighbors\",fontsize='large')\n",
    "plt.ylabel(\"Accuracy\",fontsize='large')\n",
    "\n",
    "plt.subplot(2,2,2)\n",
    "plt.plot(k_ls,rec_list)\n",
    "plt.title(\"Recall as KNN increase\",fontsize='x-large')\n",
    "plt.xlabel(\"k Nearest Neighbors\",fontsize='large')\n",
    "plt.ylabel(\"Recall\",fontsize='large')\n",
    "\n",
    "plt.subplot(2,2,3)\n",
    "plt.plot(k_ls,prec_list)\n",
    "plt.title(\"Precision as KNN increase\",fontsize='x-large')\n",
    "plt.xlabel(\"k Nearest Neighbors\",fontsize='large')\n",
    "plt.ylabel(\"Precision\",fontsize='large')\n",
    "\n",
    "plt.subplot(2,2,4)\n",
    "plt.plot(k_ls,f1_list)\n",
    "plt.title(\"F1 as KNN increase\",fontsize='x-large')\n",
    "plt.xlabel(\"k Nearest Neighbors\",fontsize='large')\n",
    "plt.ylabel(\"F1\",fontsize='large')\n",
    "\n",
    "fig.subplots_adjust(hspace=.5)\n",
    "\n",
    "plt.show"
   ]
  }
 ],
 "metadata": {
  "accelerator": "GPU",
  "colab": {
   "name": "Copy of Practical4.ipynb",
   "provenance": []
  },
  "kernelspec": {
   "display_name": "Python 3",
   "language": "python",
   "name": "python3"
  },
  "language_info": {
   "codemirror_mode": {
    "name": "ipython",
    "version": 3
   },
   "file_extension": ".py",
   "mimetype": "text/x-python",
   "name": "python",
   "nbconvert_exporter": "python",
   "pygments_lexer": "ipython3",
   "version": "3.7.4"
  }
 },
 "nbformat": 4,
 "nbformat_minor": 1
}
