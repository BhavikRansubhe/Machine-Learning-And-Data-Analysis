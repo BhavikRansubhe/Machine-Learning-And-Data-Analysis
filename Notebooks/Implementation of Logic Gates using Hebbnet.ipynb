{
 "cells": [
  {
   "cell_type": "markdown",
   "metadata": {},
   "source": [
    "# NAME     : Bhavik Ransubhe\n",
    "# CLASS    : B.E (B) COMPUTER\n",
    "# ROLL No. : 41261"
   ]
  },
  {
   "cell_type": "markdown",
   "metadata": {},
   "source": [
    "## MLDS \n",
    "### Assignment No. 3 : Implement basic Logic Gates using Hebbnet neural networks"
   ]
  },
  {
   "cell_type": "markdown",
   "metadata": {},
   "source": [
    "## Implementation of Logic Gates using Hebbnet"
   ]
  },
  {
   "cell_type": "code",
   "execution_count": 1,
   "metadata": {},
   "outputs": [],
   "source": [
    "import numpy as np \n",
    "from random import randint"
   ]
  },
  {
   "cell_type": "code",
   "execution_count": 2,
   "metadata": {},
   "outputs": [],
   "source": [
    "#inputs \n",
    "\n",
    "X=np.array([[1,1,1],[1,-1,1],[-1,1,1],[-1,-1,1]])\n",
    "#output\n",
    "Y_ad=np.array([[1],[-1],[-1],[-1]])\n",
    "Y_o=np.array([[1],[1],[1],[-1]])"
   ]
  },
  {
   "cell_type": "code",
   "execution_count": 3,
   "metadata": {},
   "outputs": [
    {
     "name": "stdout",
     "output_type": "stream",
     "text": [
      "input is:\n",
      "[[ 1  1  1]\n",
      " [ 1 -1  1]\n",
      " [-1  1  1]\n",
      " [-1 -1  1]]\n",
      "output for And Gate is: \n",
      "[[ 1]\n",
      " [-1]\n",
      " [-1]\n",
      " [-1]]\n",
      "output for Or Gate is: \n",
      "[[ 1]\n",
      " [-1]\n",
      " [-1]\n",
      " [-1]]\n",
      "[0. 0. 0.]\n"
     ]
    }
   ],
   "source": [
    "print('input is:')\n",
    "print(X)\n",
    "print('output for And Gate is: ')\n",
    "print(Y_ad)\n",
    "print('output for Or Gate is: ')\n",
    "print(Y_ad)\n",
    "weights_ad=np.zeros((3))\n",
    "weights_o=np.zeros((3))\n",
    "print(weights_ad)"
   ]
  },
  {
   "cell_type": "code",
   "execution_count": 4,
   "metadata": {},
   "outputs": [
    {
     "name": "stderr",
     "output_type": "stream",
     "text": [
      "C:\\Users\\bhavi\\.Origin\\lib\\site-packages\\ipykernel_launcher.py:9: RuntimeWarning: invalid value encountered in double_scalars\n",
      "  if __name__ == '__main__':\n",
      "C:\\Users\\bhavi\\.Origin\\lib\\site-packages\\ipykernel_launcher.py:21: RuntimeWarning: divide by zero encountered in double_scalars\n"
     ]
    }
   ],
   "source": [
    "# update weight for and gate /logic\n",
    "def update_weight_ad(X,Y,weights):\n",
    "    for i in range(4):\n",
    "         \n",
    "        weights=weights+X[i]*Y[i]\n",
    "        \n",
    "        #print weights\n",
    "        slope =-(weights[0]/weights[1])\n",
    "        c=-(weights[2]/weights[0])\n",
    "        if slope<0 and weights[0]>0:\n",
    "            weights_main=weights\n",
    "        \n",
    "    return weights_main\n",
    "            \n",
    "def update_weight_o(X,Y,weights):\n",
    "    for i in range(4):\n",
    "         \n",
    "        weights=weights+X[i]*Y[i]\n",
    "        \n",
    "        #print weights\n",
    "        slope =-(weights[0]/weights[1])\n",
    "        c=-(weights[2]/weights[0])\n",
    "        if slope<0 and weights[0]>0:\n",
    "            weights_main=weights\n",
    "        \n",
    "    return weights_main\n",
    "        \n",
    "        \n",
    "    \n",
    "weights_ad=update_weight_ad(X,Y_ad,weights_ad)\n",
    "weights_o=update_weight_o(X,Y_o,weights_o)"
   ]
  },
  {
   "cell_type": "code",
   "execution_count": 5,
   "metadata": {},
   "outputs": [
    {
     "name": "stdout",
     "output_type": "stream",
     "text": [
      "Checking after learning selecting a input\n",
      "Select a logic you also want  to check\n",
      "[ 2.  2. -2.]\n",
      "selected input is 1 \n",
      "[ 1 -1  1]\n",
      "-1\n"
     ]
    }
   ],
   "source": [
    "print('Checking after learning selecting a input')\n",
    "rand_int=1 \n",
    "#int(raw_input('Enter the test case no you want to try'))\n",
    "print('Select a logic you also want  to check')\n",
    "logicgate='A' #other option is \"O\"\n",
    "print(weights_ad)\n",
    "print('selected input is %d '%rand_int)\n",
    "print(X[rand_int])\n",
    "def check_learning(X,weights,rand_int):\n",
    "    Yin=0\n",
    "    for i in range(3):\n",
    "        Yin+=X[rand_int,i]*weights[i]\n",
    "    if Yin<0:\n",
    "        Yin=-1\n",
    "    else:\n",
    "        Yin=1\n",
    "    return Yin\n",
    "\n",
    "\n",
    "if logicgate=='a' or logicgate=='A':\n",
    "    weights_in=weights_ad\n",
    "else:\n",
    "    weights_in=weights_o\n",
    "Yin=check_learning(X,weights_in,rand_int)\n",
    "print(Yin)"
   ]
  },
  {
   "cell_type": "markdown",
   "metadata": {},
   "source": [
    "## Logic Gates using ANN"
   ]
  },
  {
   "cell_type": "code",
   "execution_count": 6,
   "metadata": {},
   "outputs": [],
   "source": [
    "# import Python Libraries\n",
    "import numpy as np\n",
    "from matplotlib import pyplot as plt"
   ]
  },
  {
   "cell_type": "code",
   "execution_count": 7,
   "metadata": {},
   "outputs": [],
   "source": [
    "# Sigmoid Function\n",
    "def sigmoid(z):\n",
    "\treturn 1 / (1 + np.exp(-z))"
   ]
  },
  {
   "cell_type": "code",
   "execution_count": 8,
   "metadata": {},
   "outputs": [],
   "source": [
    "# Initialization of the neural network parameters\n",
    "# Initialized all the weights in the range of between 0 and 1\n",
    "# Bias values are initialized to 0\n",
    "def initializeParameters(inputFeatures, neuronsInHiddenLayers, outputFeatures):\n",
    "\tW1 = np.random.randn(neuronsInHiddenLayers, inputFeatures)\n",
    "\tW2 = np.random.randn(outputFeatures, neuronsInHiddenLayers)\n",
    "\tb1 = np.zeros((neuronsInHiddenLayers, 1))\n",
    "\tb2 = np.zeros((outputFeatures, 1))\n",
    "\t\n",
    "\tparameters = {\"W1\" : W1, \"b1\": b1,\n",
    "\t\t\t\t\"W2\" : W2, \"b2\": b2}\n",
    "\treturn parameters"
   ]
  },
  {
   "cell_type": "code",
   "execution_count": 9,
   "metadata": {},
   "outputs": [],
   "source": [
    "# Forward Propagation\n",
    "def forwardPropagation(X, Y, parameters):\n",
    "\tm = X.shape[1]\n",
    "\tW1 = parameters[\"W1\"]\n",
    "\tW2 = parameters[\"W2\"]\n",
    "\tb1 = parameters[\"b1\"]\n",
    "\tb2 = parameters[\"b2\"]\n",
    "\n",
    "\tZ1 = np.dot(W1, X) + b1\n",
    "\tA1 = sigmoid(Z1)\n",
    "\tZ2 = np.dot(W2, A1) + b2\n",
    "\tA2 = sigmoid(Z2)\n",
    "\n",
    "\tcache = (Z1, A1, W1, b1, Z2, A2, W2, b2)\n",
    "\tlogprobs = np.multiply(np.log(A2), Y) + np.multiply(np.log(1 - A2), (1 - Y))\n",
    "\tcost = -np.sum(logprobs) / m\n",
    "\treturn cost, cache, A2\n",
    "\n",
    "# Backward Propagation\n",
    "def backwardPropagation(X, Y, cache):\n",
    "\tm = X.shape[1]\n",
    "\t(Z1, A1, W1, b1, Z2, A2, W2, b2) = cache\n",
    "\t\n",
    "\tdZ2 = A2 - Y\n",
    "\tdW2 = np.dot(dZ2, A1.T) / m\n",
    "\tdb2 = np.sum(dZ2, axis = 1, keepdims = True)\n",
    "\t\n",
    "\tdA1 = np.dot(W2.T, dZ2)\n",
    "\tdZ1 = np.multiply(dA1, A1 * (1- A1))\n",
    "\tdW1 = np.dot(dZ1, X.T) / m\n",
    "\tdb1 = np.sum(dZ1, axis = 1, keepdims = True) / m\n",
    "\t\n",
    "\tgradients = {\"dZ2\": dZ2, \"dW2\": dW2, \"db2\": db2,\n",
    "\t\t\t\t\"dZ1\": dZ1, \"dW1\": dW1, \"db1\": db1}\n",
    "\treturn gradients\n"
   ]
  },
  {
   "cell_type": "code",
   "execution_count": 10,
   "metadata": {},
   "outputs": [],
   "source": [
    "# Updating the weights based on the negative gradients\n",
    "def updateParameters(parameters, gradients, learningRate):\n",
    "\tparameters[\"W1\"] = parameters[\"W1\"] - learningRate * gradients[\"dW1\"]\n",
    "\tparameters[\"W2\"] = parameters[\"W2\"] - learningRate * gradients[\"dW2\"]\n",
    "\tparameters[\"b1\"] = parameters[\"b1\"] - learningRate * gradients[\"db1\"]\n",
    "\tparameters[\"b2\"] = parameters[\"b2\"] - learningRate * gradients[\"db2\"]\n",
    "\treturn parameters"
   ]
  },
  {
   "cell_type": "code",
   "execution_count": 11,
   "metadata": {},
   "outputs": [],
   "source": [
    "# Model to learn the AND truth table\n",
    "X = np.array([[0, 0, 1, 1], [0, 1, 0, 1]]) # AND input\n",
    "Y = np.array([[0, 0, 0, 1]]) # AND output"
   ]
  },
  {
   "cell_type": "code",
   "execution_count": 12,
   "metadata": {},
   "outputs": [],
   "source": [
    "# Define model parameters\n",
    "neuronsInHiddenLayers = 2 # number of hidden layer neurons (2)\n",
    "inputFeatures = X.shape[0] # number of input features (2)\n",
    "outputFeatures = Y.shape[0] # number of output features (1)\n",
    "parameters = initializeParameters(inputFeatures, neuronsInHiddenLayers, outputFeatures)\n",
    "epoch = 100000\n",
    "learningRate = 0.01\n",
    "losses = np.zeros((epoch, 1))\n",
    "\n",
    "for i in range(epoch):\n",
    "\tlosses[i, 0], cache, A2 = forwardPropagation(X, Y, parameters)\n",
    "\tgradients = backwardPropagation(X, Y, cache)\n",
    "\tparameters = updateParameters(parameters, gradients, learningRate)\n"
   ]
  },
  {
   "cell_type": "code",
   "execution_count": 13,
   "metadata": {},
   "outputs": [
    {
     "data": {
      "image/png": "[encoded data removed]",
      "text/plain": [
       "<Figure size 432x288 with 1 Axes>"
      ]
     },
     "metadata": {
      "needs_background": "light"
     },
     "output_type": "display_data"
    }
   ],
   "source": [
    "# Evaluating the performance\n",
    "plt.figure()\n",
    "plt.plot(losses)\n",
    "plt.xlabel(\"EPOCHS\")\n",
    "plt.ylabel(\"Loss value\")\n",
    "plt.show()"
   ]
  },
  {
   "cell_type": "code",
   "execution_count": 14,
   "metadata": {},
   "outputs": [
    {
     "name": "stdout",
     "output_type": "stream",
     "text": [
      "[[0. 1. 0. 0.]]\n"
     ]
    }
   ],
   "source": [
    "# Testing\n",
    "X = np.array([[1, 1, 0, 0], [0, 1, 0, 1]]) # AND input\n",
    "cost, _, A2 = forwardPropagation(X, Y, parameters)\n",
    "prediction = (A2 > 0.5) * 1.0\n",
    "# print(A2)\n",
    "print(prediction)"
   ]
  }
 ],
 "metadata": {
  "colab": {
   "name": "Hebnet_LogicGates.ipynb",
   "provenance": []
  },
  "kernelspec": {
   "display_name": "Python 3",
   "language": "python",
   "name": "python3"
  },
  "language_info": {
   "codemirror_mode": {
    "name": "ipython",
    "version": 3
   },
   "file_extension": ".py",
   "mimetype": "text/x-python",
   "name": "python",
   "nbconvert_exporter": "python",
   "pygments_lexer": "ipython3",
   "version": "3.7.4"
  }
 },
 "nbformat": 4,
 "nbformat_minor": 1
}
