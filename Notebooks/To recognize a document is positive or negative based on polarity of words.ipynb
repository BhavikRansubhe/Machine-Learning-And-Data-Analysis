{
 "cells": [
  {
   "cell_type": "markdown",
   "metadata": {},
   "source": [
    "# NAME     : Bhavik Ransubhe\n",
    "# CLASS    : B.E (B) COMPUTER\n",
    "# ROLL No. : 41261"
   ]
  },
  {
   "cell_type": "markdown",
   "metadata": {},
   "source": [
    "## MLDS \n",
    "### Assignment No. 6 : Write a program to recognize a document is positive or negative based on polarity words using suitable classification method."
   ]
  },
  {
   "cell_type": "markdown",
   "metadata": {},
   "source": [
    "import packages."
   ]
  },
  {
   "cell_type": "code",
   "execution_count": 1,
   "metadata": {},
   "outputs": [],
   "source": [
    "import nltk.classify.util\n",
    "from nltk.classify import NaiveBayesClassifier\n",
    "from nltk.corpus import movie_reviews"
   ]
  },
  {
   "cell_type": "markdown",
   "metadata": {},
   "source": [
    "Define a function to extract features"
   ]
  },
  {
   "cell_type": "code",
   "execution_count": 2,
   "metadata": {},
   "outputs": [],
   "source": [
    "def extract_features(word_list):\n",
    "    return dict([(word, True) for word in word_list])"
   ]
  },
  {
   "cell_type": "markdown",
   "metadata": {},
   "source": [
    "To get the training data, use the following movie reviews from NLTK."
   ]
  },
  {
   "cell_type": "code",
   "execution_count": 3,
   "metadata": {},
   "outputs": [],
   "source": [
    "if __name__=='__main__':\n",
    "   # Load positive and negative reviews  \n",
    "   positive_fileids = movie_reviews.fileids('pos')\n",
    "   negative_fileids = movie_reviews.fileids('neg')"
   ]
  },
  {
   "cell_type": "markdown",
   "metadata": {},
   "source": [
    "separate the positive and negative reviews"
   ]
  },
  {
   "cell_type": "code",
   "execution_count": 4,
   "metadata": {},
   "outputs": [],
   "source": [
    "features_positive = [(extract_features(movie_reviews.words(fileids=[f])),'Positive') for f in positive_fileids]\n",
    "features_negative = [(extract_features(movie_reviews.words(fileids=[f])),'Negative') for f in negative_fileids]"
   ]
  },
  {
   "cell_type": "markdown",
   "metadata": {},
   "source": [
    "Split the data into train and test (80/20)"
   ]
  },
  {
   "cell_type": "code",
   "execution_count": 5,
   "metadata": {},
   "outputs": [],
   "source": [
    "threshold_factor = 0.8\n",
    "threshold_positive = int(threshold_factor * len(features_positive))\n",
    "threshold_negative = int(threshold_factor * len(features_negative))"
   ]
  },
  {
   "cell_type": "code",
   "execution_count": 6,
   "metadata": {},
   "outputs": [
    {
     "name": "stdout",
     "output_type": "stream",
     "text": [
      "Number of training datapoints:  1600\n",
      "Number of test datapoints:  400\n"
     ]
    }
   ],
   "source": [
    "features_train = features_positive[:threshold_positive]+features_negative[:threshold_negative]\n",
    "features_test = features_positive[threshold_positive:]+features_negative[threshold_negative:]\n",
    "\n",
    "print(\"Number of training datapoints: \", len(features_train))\n",
    "print(\"Number of test datapoints: \", len(features_test)) "
   ]
  },
  {
   "cell_type": "markdown",
   "metadata": {},
   "source": [
    "Use the Navie Bayes classifier. Define the object and train it"
   ]
  },
  {
   "cell_type": "code",
   "execution_count": 7,
   "metadata": {},
   "outputs": [
    {
     "name": "stdout",
     "output_type": "stream",
     "text": [
      "Accuracy of the classifier:  0.735\n"
     ]
    }
   ],
   "source": [
    "classifier = NaiveBayesClassifier.train(features_train)\n",
    "print(\"Accuracy of the classifier: \", nltk.classify.util.accuracy(classifier, features_test))"
   ]
  },
  {
   "cell_type": "markdown",
   "metadata": {},
   "source": [
    "To find out the most informative words inside the classifier which decides a review is positive or negative"
   ]
  },
  {
   "cell_type": "code",
   "execution_count": 8,
   "metadata": {},
   "outputs": [
    {
     "name": "stdout",
     "output_type": "stream",
     "text": [
      "Top ten most informative words: \n",
      "outstanding\n",
      "insulting\n",
      "vulnerable\n",
      "ludicrous\n",
      "uninvolving\n",
      "avoids\n",
      "astounding\n",
      "fascination\n",
      "symbol\n",
      "darker\n"
     ]
    }
   ],
   "source": [
    "print(\"Top ten most informative words: \")\n",
    "\n",
    "for item in classifier.most_informative_features()[:10]:\n",
    "    print(item[0])"
   ]
  },
  {
   "cell_type": "markdown",
   "metadata": {},
   "source": [
    "Create some random movie reviews of your own"
   ]
  },
  {
   "cell_type": "code",
   "execution_count": 9,
   "metadata": {},
   "outputs": [],
   "source": [
    "#Sample input reviews\n",
    "input_reviews = [\n",
    "    \"Started off as the greatest series of all time, but had the worst ending of all time.\",\n",
    "    \"Exquisite. 'Big Little Lies' takes us to an incredible journey with its emotional and intriguing storyline.\",\n",
    "    \"The Big Bang Theory and to me it's one of the best written sitcoms currently on network TV.\",\n",
    "    \"'Friends' is simply the best series ever aired. The acting is amazing.\",\n",
    "    \"SUITS is smart, sassy, clever, sophisticated, timely and immensely entertaining!\",\n",
    "    \"Cumberbatch is a fantastic choice for Sherlock Holmes-he is physically right (he fits the traditional reading of the character) and he is a damn good actor\",\n",
    "    \"What sounds like a typical agent hunting serial killer, surprises with great characters, surprising turning points and amazing cast.\"\n",
    "    \"This is one of the most magical things I have ever had the fortune of viewing.\",\n",
    "    \"I don't recommend watching this at all!\"\n",
    "]"
   ]
  },
  {
   "cell_type": "code",
   "execution_count": 10,
   "metadata": {},
   "outputs": [
    {
     "name": "stdout",
     "output_type": "stream",
     "text": [
      "Predictions: \n",
      "\n",
      "Review: Started off as the greatest series of all time, but had the worst ending of all time.\n",
      "\n",
      "Review: Exquisite. 'Big Little Lies' takes us to an incredible journey with its emotional and intriguing storyline.\n",
      "\n",
      "Review: The Big Bang Theory and to me it's one of the best written sitcoms currently on network TV.\n",
      "\n",
      "Review: 'Friends' is simply the best series ever aired. The acting is amazing.\n",
      "\n",
      "Review: SUITS is smart, sassy, clever, sophisticated, timely and immensely entertaining!\n",
      "\n",
      "Review: Cumberbatch is a fantastic choice for Sherlock Holmes-he is physically right (he fits the traditional reading of the character) and he is a damn good actor\n",
      "\n",
      "Review: What sounds like a typical agent hunting serial killer, surprises with great characters, surprising turning points and amazing cast.This is one of the most magical things I have ever had the fortune of viewing.\n",
      "\n",
      "Review: I don't recommend watching this at all!\n"
     ]
    }
   ],
   "source": [
    "print(\"Predictions: \")\n",
    "\n",
    "for review in input_reviews:\n",
    "    print(\"\\nReview:\", review)\n",
    "    probdist = classifier.prob_classify(extract_features(review.split()))\n",
    "    pred_sentiment = probdist.max()"
   ]
  },
  {
   "cell_type": "code",
   "execution_count": 11,
   "metadata": {},
   "outputs": [
    {
     "name": "stdout",
     "output_type": "stream",
     "text": [
      "Predictions: \n",
      "\n",
      "Review: Started off as the greatest series of all time, but had the worst ending of all time.\n",
      "Predicted sentiment:  Negative\n",
      "Probability:  0.64\n",
      "\n",
      "Review: Exquisite. 'Big Little Lies' takes us to an incredible journey with its emotional and intriguing storyline.\n",
      "Predicted sentiment:  Positive\n",
      "Probability:  0.89\n",
      "\n",
      "Review: The Big Bang Theory and to me it's one of the best written sitcoms currently on network TV.\n",
      "Predicted sentiment:  Positive\n",
      "Probability:  0.62\n",
      "\n",
      "Review: 'Friends' is simply the best series ever aired. The acting is amazing.\n",
      "Predicted sentiment:  Positive\n",
      "Probability:  0.55\n",
      "\n",
      "Review: SUITS is smart, sassy, clever, sophisticated, timely and immensely entertaining!\n",
      "Predicted sentiment:  Positive\n",
      "Probability:  0.82\n",
      "\n",
      "Review: Cumberbatch is a fantastic choice for Sherlock Holmes-he is physically right (he fits the traditional reading of the character) and he is a damn good actor\n",
      "Predicted sentiment:  Positive\n",
      "Probability:  1.0\n",
      "\n",
      "Review: What sounds like a typical agent hunting serial killer, surprises with great characters, surprising turning points and amazing cast.This is one of the most magical things I have ever had the fortune of viewing.\n",
      "Predicted sentiment:  Positive\n",
      "Probability:  0.95\n",
      "\n",
      "Review: I don't recommend watching this at all!\n",
      "Predicted sentiment:  Negative\n",
      "Probability:  0.53\n"
     ]
    }
   ],
   "source": [
    "print(\"Predictions: \")\n",
    "\n",
    "for review in input_reviews:\n",
    "    print(\"\\nReview:\", review)\n",
    "    probdist = classifier.prob_classify(extract_features(review.split()))\n",
    "    pred_sentiment = probdist.max()\n",
    "    print(\"Predicted sentiment: \", pred_sentiment)\n",
    "    print(\"Probability: \", round(probdist.prob(pred_sentiment), 2))"
   ]
  }
 ],
 "metadata": {
  "kernelspec": {
   "display_name": "Python 3",
   "language": "python",
   "name": "python3"
  },
  "language_info": {
   "codemirror_mode": {
    "name": "ipython",
    "version": 3
   },
   "file_extension": ".py",
   "mimetype": "text/x-python",
   "name": "python",
   "nbconvert_exporter": "python",
   "pygments_lexer": "ipython3",
   "version": "3.7.4"
  }
 },
 "nbformat": 4,
 "nbformat_minor": 2
}
