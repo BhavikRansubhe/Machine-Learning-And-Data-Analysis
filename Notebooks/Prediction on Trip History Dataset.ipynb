{
 "cells": [
  {
   "cell_type": "markdown",
   "metadata": {},
   "source": [
    "# Name : Bhavik Ransubhe\n",
    "# Class : B.E (B) COMPUTER\n",
    "# Roll No. : 41261"
   ]
  },
  {
   "cell_type": "markdown",
   "metadata": {},
   "source": [
    "### PROBLEM STATEMENT : \n",
    "\n",
    "*Trip History Analysis: Use trip history dataset that is from a bike sharing service in the United States. The data is provided quarter-wise from 2010 (Q4) onwards. Each file has 7 columns. Predict the class of user. Sample Test data set available here https://www.capitalbikeshare.com/trip-history-data*"
   ]
  },
  {
   "cell_type": "code",
   "execution_count": 1,
   "metadata": {},
   "outputs": [],
   "source": [
    "#import libraries\n",
    "import numpy as np\n",
    "import pandas as pd\n",
    "%matplotlib inline\n",
    "from sklearn import tree, linear_model\n",
    "from sklearn.linear_model import LogisticRegression\n",
    "from sklearn.preprocessing import LabelEncoder\n",
    "from sklearn.model_selection import train_test_split\n",
    "import matplotlib.pyplot as plt\n",
    "import seaborn as sns\n",
    "from  sklearn.metrics  import accuracy_score\n",
    "from sklearn import metrics\n",
    "from sklearn.metrics import confusion_matrix\n",
    "from sklearn.naive_bayes import GaussianNB"
   ]
  },
  {
   "cell_type": "code",
   "execution_count": 2,
   "metadata": {},
   "outputs": [],
   "source": [
    "#Load data\n",
    "data=pd.read_csv('tripdata.csv')"
   ]
  },
  {
   "cell_type": "code",
   "execution_count": 3,
   "metadata": {},
   "outputs": [
    {
     "data": {
      "text/html": [
       "<div>\n",
       "<style scoped>\n",
       "    .dataframe tbody tr th:only-of-type {\n",
       "        vertical-align: middle;\n",
       "    }\n",
       "\n",
       "    .dataframe tbody tr th {\n",
       "        vertical-align: top;\n",
       "    }\n",
       "\n",
       "    .dataframe thead th {\n",
       "        text-align: right;\n",
       "    }\n",
       "</style>\n",
       "<table border=\"1\" class=\"dataframe\">\n",
       "  <thead>\n",
       "    <tr style=\"text-align: right;\">\n",
       "      <th></th>\n",
       "      <th>Duration</th>\n",
       "      <th>Start date</th>\n",
       "      <th>End date</th>\n",
       "      <th>Start station number</th>\n",
       "      <th>Start station</th>\n",
       "      <th>End station number</th>\n",
       "      <th>End station</th>\n",
       "      <th>Bike number</th>\n",
       "      <th>Member type</th>\n",
       "    </tr>\n",
       "  </thead>\n",
       "  <tbody>\n",
       "    <tr>\n",
       "      <td>0</td>\n",
       "      <td>552</td>\n",
       "      <td>2018-01-01 00:05:06</td>\n",
       "      <td>2018-01-01 00:14:18</td>\n",
       "      <td>31104</td>\n",
       "      <td>Adams Mill &amp; Columbia Rd NW</td>\n",
       "      <td>31400</td>\n",
       "      <td>Georgia &amp; New Hampshire Ave NW</td>\n",
       "      <td>W00886</td>\n",
       "      <td>Member</td>\n",
       "    </tr>\n",
       "    <tr>\n",
       "      <td>1</td>\n",
       "      <td>1282</td>\n",
       "      <td>2018-01-01 00:14:30</td>\n",
       "      <td>2018-01-01 00:35:53</td>\n",
       "      <td>31321</td>\n",
       "      <td>15th St &amp; Constitution Ave NW</td>\n",
       "      <td>31321</td>\n",
       "      <td>15th St &amp; Constitution Ave NW</td>\n",
       "      <td>W01435</td>\n",
       "      <td>Casual</td>\n",
       "    </tr>\n",
       "    <tr>\n",
       "      <td>2</td>\n",
       "      <td>1265</td>\n",
       "      <td>2018-01-01 00:14:53</td>\n",
       "      <td>2018-01-01 00:35:58</td>\n",
       "      <td>31321</td>\n",
       "      <td>15th St &amp; Constitution Ave NW</td>\n",
       "      <td>31321</td>\n",
       "      <td>15th St &amp; Constitution Ave NW</td>\n",
       "      <td>W21242</td>\n",
       "      <td>Casual</td>\n",
       "    </tr>\n",
       "    <tr>\n",
       "      <td>3</td>\n",
       "      <td>578</td>\n",
       "      <td>2018-01-01 00:15:31</td>\n",
       "      <td>2018-01-01 00:25:09</td>\n",
       "      <td>31406</td>\n",
       "      <td>14th &amp; Upshur St NW</td>\n",
       "      <td>31103</td>\n",
       "      <td>16th &amp; Harvard St NW</td>\n",
       "      <td>W21322</td>\n",
       "      <td>Casual</td>\n",
       "    </tr>\n",
       "    <tr>\n",
       "      <td>4</td>\n",
       "      <td>372</td>\n",
       "      <td>2018-01-01 00:18:02</td>\n",
       "      <td>2018-01-01 00:24:15</td>\n",
       "      <td>31618</td>\n",
       "      <td>4th &amp; East Capitol St NE</td>\n",
       "      <td>31619</td>\n",
       "      <td>Lincoln Park / 13th &amp; East Capitol St NE</td>\n",
       "      <td>W00119</td>\n",
       "      <td>Member</td>\n",
       "    </tr>\n",
       "  </tbody>\n",
       "</table>\n",
       "</div>"
      ],
      "text/plain": [
       "   Duration           Start date             End date  Start station number  \\\n",
       "0       552  2018-01-01 00:05:06  2018-01-01 00:14:18                 31104   \n",
       "1      1282  2018-01-01 00:14:30  2018-01-01 00:35:53                 31321   \n",
       "2      1265  2018-01-01 00:14:53  2018-01-01 00:35:58                 31321   \n",
       "3       578  2018-01-01 00:15:31  2018-01-01 00:25:09                 31406   \n",
       "4       372  2018-01-01 00:18:02  2018-01-01 00:24:15                 31618   \n",
       "\n",
       "                   Start station  End station number  \\\n",
       "0    Adams Mill & Columbia Rd NW               31400   \n",
       "1  15th St & Constitution Ave NW               31321   \n",
       "2  15th St & Constitution Ave NW               31321   \n",
       "3            14th & Upshur St NW               31103   \n",
       "4       4th & East Capitol St NE               31619   \n",
       "\n",
       "                                 End station Bike number Member type  \n",
       "0             Georgia & New Hampshire Ave NW      W00886      Member  \n",
       "1              15th St & Constitution Ave NW      W01435      Casual  \n",
       "2              15th St & Constitution Ave NW      W21242      Casual  \n",
       "3                       16th & Harvard St NW      W21322      Casual  \n",
       "4  Lincoln Park / 13th & East Capitol St NE       W00119      Member  "
      ]
     },
     "execution_count": 3,
     "metadata": {},
     "output_type": "execute_result"
    }
   ],
   "source": [
    "data.head()"
   ]
  },
  {
   "cell_type": "code",
   "execution_count": 4,
   "metadata": {},
   "outputs": [
    {
     "data": {
      "text/plain": [
       "Duration                 int64\n",
       "Start date              object\n",
       "End date                object\n",
       "Start station number     int64\n",
       "Start station           object\n",
       "End station number       int64\n",
       "End station             object\n",
       "Bike number             object\n",
       "Member type             object\n",
       "dtype: object"
      ]
     },
     "execution_count": 4,
     "metadata": {},
     "output_type": "execute_result"
    }
   ],
   "source": [
    "data.dtypes"
   ]
  },
  {
   "cell_type": "code",
   "execution_count": 5,
   "metadata": {},
   "outputs": [],
   "source": [
    "data = data.drop('Start date',axis=1)\n",
    "data = data.drop('End date',axis=1)\n",
    "data = data.drop('Start station',axis=1)\n",
    "data = data.drop('End station',axis=1)\n",
    "data = data.drop('Bike number',axis=1)"
   ]
  },
  {
   "cell_type": "code",
   "execution_count": 6,
   "metadata": {},
   "outputs": [
    {
     "data": {
      "text/html": [
       "<div>\n",
       "<style scoped>\n",
       "    .dataframe tbody tr th:only-of-type {\n",
       "        vertical-align: middle;\n",
       "    }\n",
       "\n",
       "    .dataframe tbody tr th {\n",
       "        vertical-align: top;\n",
       "    }\n",
       "\n",
       "    .dataframe thead th {\n",
       "        text-align: right;\n",
       "    }\n",
       "</style>\n",
       "<table border=\"1\" class=\"dataframe\">\n",
       "  <thead>\n",
       "    <tr style=\"text-align: right;\">\n",
       "      <th></th>\n",
       "      <th>Duration</th>\n",
       "      <th>Start station number</th>\n",
       "      <th>End station number</th>\n",
       "      <th>Member type</th>\n",
       "    </tr>\n",
       "  </thead>\n",
       "  <tbody>\n",
       "    <tr>\n",
       "      <td>0</td>\n",
       "      <td>552</td>\n",
       "      <td>31104</td>\n",
       "      <td>31400</td>\n",
       "      <td>Member</td>\n",
       "    </tr>\n",
       "    <tr>\n",
       "      <td>1</td>\n",
       "      <td>1282</td>\n",
       "      <td>31321</td>\n",
       "      <td>31321</td>\n",
       "      <td>Casual</td>\n",
       "    </tr>\n",
       "    <tr>\n",
       "      <td>2</td>\n",
       "      <td>1265</td>\n",
       "      <td>31321</td>\n",
       "      <td>31321</td>\n",
       "      <td>Casual</td>\n",
       "    </tr>\n",
       "    <tr>\n",
       "      <td>3</td>\n",
       "      <td>578</td>\n",
       "      <td>31406</td>\n",
       "      <td>31103</td>\n",
       "      <td>Casual</td>\n",
       "    </tr>\n",
       "    <tr>\n",
       "      <td>4</td>\n",
       "      <td>372</td>\n",
       "      <td>31618</td>\n",
       "      <td>31619</td>\n",
       "      <td>Member</td>\n",
       "    </tr>\n",
       "  </tbody>\n",
       "</table>\n",
       "</div>"
      ],
      "text/plain": [
       "   Duration  Start station number  End station number Member type\n",
       "0       552                 31104               31400      Member\n",
       "1      1282                 31321               31321      Casual\n",
       "2      1265                 31321               31321      Casual\n",
       "3       578                 31406               31103      Casual\n",
       "4       372                 31618               31619      Member"
      ]
     },
     "execution_count": 6,
     "metadata": {},
     "output_type": "execute_result"
    }
   ],
   "source": [
    "data.head()"
   ]
  },
  {
   "cell_type": "code",
   "execution_count": 7,
   "metadata": {},
   "outputs": [],
   "source": [
    "# convert Member type to int value representation\n",
    "# 1 - Registered Memeber\n",
    "# 0 - Casual Member\n",
    "\n",
    "le = LabelEncoder()\n",
    "le.fit(data['Member type'])\n",
    "data['Member type'] = le.transform(data['Member type'])"
   ]
  },
  {
   "cell_type": "code",
   "execution_count": 8,
   "metadata": {},
   "outputs": [
    {
     "data": {
      "text/html": [
       "<div>\n",
       "<style scoped>\n",
       "    .dataframe tbody tr th:only-of-type {\n",
       "        vertical-align: middle;\n",
       "    }\n",
       "\n",
       "    .dataframe tbody tr th {\n",
       "        vertical-align: top;\n",
       "    }\n",
       "\n",
       "    .dataframe thead th {\n",
       "        text-align: right;\n",
       "    }\n",
       "</style>\n",
       "<table border=\"1\" class=\"dataframe\">\n",
       "  <thead>\n",
       "    <tr style=\"text-align: right;\">\n",
       "      <th></th>\n",
       "      <th>Duration</th>\n",
       "      <th>Start station number</th>\n",
       "      <th>End station number</th>\n",
       "      <th>Member type</th>\n",
       "    </tr>\n",
       "  </thead>\n",
       "  <tbody>\n",
       "    <tr>\n",
       "      <td>0</td>\n",
       "      <td>552</td>\n",
       "      <td>31104</td>\n",
       "      <td>31400</td>\n",
       "      <td>1</td>\n",
       "    </tr>\n",
       "    <tr>\n",
       "      <td>1</td>\n",
       "      <td>1282</td>\n",
       "      <td>31321</td>\n",
       "      <td>31321</td>\n",
       "      <td>0</td>\n",
       "    </tr>\n",
       "    <tr>\n",
       "      <td>2</td>\n",
       "      <td>1265</td>\n",
       "      <td>31321</td>\n",
       "      <td>31321</td>\n",
       "      <td>0</td>\n",
       "    </tr>\n",
       "    <tr>\n",
       "      <td>3</td>\n",
       "      <td>578</td>\n",
       "      <td>31406</td>\n",
       "      <td>31103</td>\n",
       "      <td>0</td>\n",
       "    </tr>\n",
       "    <tr>\n",
       "      <td>4</td>\n",
       "      <td>372</td>\n",
       "      <td>31618</td>\n",
       "      <td>31619</td>\n",
       "      <td>1</td>\n",
       "    </tr>\n",
       "  </tbody>\n",
       "</table>\n",
       "</div>"
      ],
      "text/plain": [
       "   Duration  Start station number  End station number  Member type\n",
       "0       552                 31104               31400            1\n",
       "1      1282                 31321               31321            0\n",
       "2      1265                 31321               31321            0\n",
       "3       578                 31406               31103            0\n",
       "4       372                 31618               31619            1"
      ]
     },
     "execution_count": 8,
     "metadata": {},
     "output_type": "execute_result"
    }
   ],
   "source": [
    "data.head()"
   ]
  },
  {
   "cell_type": "code",
   "execution_count": 9,
   "metadata": {},
   "outputs": [
    {
     "data": {
      "text/plain": [
       "(168590, 4)"
      ]
     },
     "execution_count": 9,
     "metadata": {},
     "output_type": "execute_result"
    }
   ],
   "source": [
    "data.shape"
   ]
  },
  {
   "cell_type": "code",
   "execution_count": 10,
   "metadata": {},
   "outputs": [],
   "source": [
    "#Split data for training and testing set\n",
    "X = data.drop(['Member type'],axis=1).values\n",
    "y = data['Member type'].values\n",
    "X_train, X_test, y_train, y_test = train_test_split(X, y ,test_size=0.3)"
   ]
  },
  {
   "cell_type": "markdown",
   "metadata": {},
   "source": [
    "### Models\n",
    "**1. Using Logistic Regression :**"
   ]
  },
  {
   "cell_type": "code",
   "execution_count": 11,
   "metadata": {},
   "outputs": [
    {
     "name": "stdout",
     "output_type": "stream",
     "text": [
      "Accuracy: 0.9104138244656662\n"
     ]
    },
    {
     "name": "stderr",
     "output_type": "stream",
     "text": [
      "C:\\Users\\bhavi\\.Origin\\lib\\site-packages\\sklearn\\linear_model\\logistic.py:432: FutureWarning: Default solver will be changed to 'lbfgs' in 0.22. Specify a solver to silence this warning.\n",
      "  FutureWarning)\n"
     ]
    }
   ],
   "source": [
    "lr = LogisticRegression(max_iter=1000)\n",
    "lr.fit(X_train, y_train)\n",
    "lr_predicted = lr.predict(X_test)\n",
    "lr_acc = accuracy_score(y_test,lr_predicted)\n",
    "print(\"Accuracy:\",lr_acc)"
   ]
  },
  {
   "cell_type": "code",
   "execution_count": 12,
   "metadata": {},
   "outputs": [
    {
     "data": {
      "text/plain": [
       "Text(0.5, 1, 'Confusion Matrix')"
      ]
     },
     "execution_count": 12,
     "metadata": {},
     "output_type": "execute_result"
    },
    {
     "data": {
      "image/png": "[encoded data removed]",
      "text/plain": [
       "<Figure size 432x288 with 2 Axes>"
      ]
     },
     "metadata": {
      "needs_background": "light"
     },
     "output_type": "display_data"
    }
   ],
   "source": [
    "conf_matrix = confusion_matrix(y_test, lr_predicted)\n",
    "sns.heatmap(conf_matrix, annot=True,fmt=\"d\",cmap='Blues')\n",
    "plt.ylabel('True Label')\n",
    "plt.xlabel('Predicted Label')\n",
    "plt.title('Confusion Matrix')"
   ]
  },
  {
   "cell_type": "code",
   "execution_count": 13,
   "metadata": {},
   "outputs": [
    {
     "name": "stdout",
     "output_type": "stream",
     "text": [
      "Precision:  0.9127654853869582\n",
      "Recall:  0.995468543774747\n"
     ]
    }
   ],
   "source": [
    "confusion_matrix(y_test, lr_predicted)\n",
    "\n",
    "tn_lr = confusion_matrix(y_test, lr_predicted)[0,0]\n",
    "fp_lr = confusion_matrix(y_test, lr_predicted)[0,1]\n",
    "tp_lr = confusion_matrix(y_test, lr_predicted)[1,1]\n",
    "fn_lr = confusion_matrix(y_test, lr_predicted)[1,0]\n",
    "\n",
    "precison_lr = tp_lr/(tp_lr+fp_lr)\n",
    "recall_lr = tp_lr/(tp_lr+fn_lr)\n",
    "\n",
    "print(\"Precision: \", precison_lr)\n",
    "print(\"Recall: \", recall_lr)"
   ]
  },
  {
   "cell_type": "markdown",
   "metadata": {},
   "source": [
    "**2. Using Gaussian Naive Bayes :**"
   ]
  },
  {
   "cell_type": "code",
   "execution_count": 14,
   "metadata": {},
   "outputs": [
    {
     "name": "stdout",
     "output_type": "stream",
     "text": [
      "Accuracy: 0.9077446270043695\n"
     ]
    }
   ],
   "source": [
    "GNB = GaussianNB()\n",
    "GNB.fit(X_train, y_train)\n",
    "GNB_predicted = GNB.predict(X_test)\n",
    "GNB_acc = accuracy_score(y_test,GNB_predicted)\n",
    "print(\"Accuracy:\",GNB_acc)"
   ]
  },
  {
   "cell_type": "code",
   "execution_count": 15,
   "metadata": {},
   "outputs": [
    {
     "data": {
      "text/plain": [
       "Text(0.5, 1, 'Confusion Matrix')"
      ]
     },
     "execution_count": 15,
     "metadata": {},
     "output_type": "execute_result"
    },
    {
     "data": {
      "image/png": "[encoded data removed]",
      "text/plain": [
       "<Figure size 432x288 with 2 Axes>"
      ]
     },
     "metadata": {
      "needs_background": "light"
     },
     "output_type": "display_data"
    }
   ],
   "source": [
    "conf_matrix = confusion_matrix(y_test, GNB_predicted)\n",
    "sns.heatmap(conf_matrix, annot=True,fmt=\"d\",cmap='Blues')\n",
    "plt.ylabel('True Label')\n",
    "plt.xlabel('Predicted Label')\n",
    "plt.title('Confusion Matrix')"
   ]
  },
  {
   "cell_type": "code",
   "execution_count": 16,
   "metadata": {},
   "outputs": [
    {
     "name": "stdout",
     "output_type": "stream",
     "text": [
      "Precision:  0.909561864985342\n",
      "Recall:  0.9964364276286846\n"
     ]
    }
   ],
   "source": [
    "tn_GNB = confusion_matrix(y_test, GNB_predicted)[0,0]\n",
    "fp_GNB = confusion_matrix(y_test, GNB_predicted)[0,1]\n",
    "tp_GNB = confusion_matrix(y_test, GNB_predicted)[1,1]\n",
    "fn_GNB = confusion_matrix(y_test, GNB_predicted)[1,0]\n",
    "\n",
    "precison_GNB = tp_GNB/(tp_GNB+fp_GNB)\n",
    "recall_GNB = tp_GNB/(tp_GNB+fn_GNB)\n",
    "\n",
    "print(\"Precision: \", precison_GNB)\n",
    "print(\"Recall: \", recall_GNB)"
   ]
  },
  {
   "cell_type": "markdown",
   "metadata": {},
   "source": [
    "**3. Using Decision Tree  :**"
   ]
  },
  {
   "cell_type": "code",
   "execution_count": 17,
   "metadata": {},
   "outputs": [
    {
     "name": "stdout",
     "output_type": "stream",
     "text": [
      "Accuracy: 0.9238191272712893\n"
     ]
    }
   ],
   "source": [
    "DTC = tree.DecisionTreeClassifier(max_depth=10)\n",
    "DTC.fit(X_train, y_train)\n",
    "DTC_predicted = DTC.predict(X_test)\n",
    "DTC_acc = accuracy_score(y_test,DTC_predicted)\n",
    "print(\"Accuracy:\",DTC_acc)"
   ]
  },
  {
   "cell_type": "code",
   "execution_count": 18,
   "metadata": {},
   "outputs": [
    {
     "data": {
      "text/plain": [
       "Text(0.5, 1, 'Confusion Matrix')"
      ]
     },
     "execution_count": 18,
     "metadata": {},
     "output_type": "execute_result"
    },
    {
     "data": {
      "image/png": "[encoded data removed]",
      "text/plain": [
       "<Figure size 432x288 with 2 Axes>"
      ]
     },
     "metadata": {
      "needs_background": "light"
     },
     "output_type": "display_data"
    }
   ],
   "source": [
    "conf_matrix = confusion_matrix(y_test, DTC_predicted)\n",
    "sns.heatmap(conf_matrix, annot=True,fmt=\"d\",cmap='Blues')\n",
    "plt.ylabel('True Label')\n",
    "plt.xlabel('Predicted Label')\n",
    "plt.title('Confusion Matrix')"
   ]
  },
  {
   "cell_type": "code",
   "execution_count": 19,
   "metadata": {},
   "outputs": [
    {
     "name": "stdout",
     "output_type": "stream",
     "text": [
      "Precision:  0.9352651951040903\n",
      "Recall:  0.9833040035195777\n"
     ]
    }
   ],
   "source": [
    "tn_DTC = confusion_matrix(y_test, DTC_predicted)[0,0]\n",
    "fp_DTC = confusion_matrix(y_test, DTC_predicted)[0,1]\n",
    "tp_DTC = confusion_matrix(y_test, DTC_predicted)[1,1]\n",
    "fn_DTC = confusion_matrix(y_test, DTC_predicted)[1,0]\n",
    "\n",
    "precison_DTC = tp_DTC/(tp_DTC+fp_DTC)\n",
    "recall_DTC = tp_DTC/(tp_DTC+fn_DTC)\n",
    "\n",
    "print(\"Precision: \", precison_DTC)\n",
    "print(\"Recall: \", recall_DTC)"
   ]
  },
  {
   "cell_type": "markdown",
   "metadata": {},
   "source": [
    "**Comparing all models accuracy**"
   ]
  },
  {
   "cell_type": "code",
   "execution_count": 20,
   "metadata": {},
   "outputs": [
    {
     "data": {
      "text/html": [
       "<div>\n",
       "<style scoped>\n",
       "    .dataframe tbody tr th:only-of-type {\n",
       "        vertical-align: middle;\n",
       "    }\n",
       "\n",
       "    .dataframe tbody tr th {\n",
       "        vertical-align: top;\n",
       "    }\n",
       "\n",
       "    .dataframe thead th {\n",
       "        text-align: right;\n",
       "    }\n",
       "</style>\n",
       "<table border=\"1\" class=\"dataframe\">\n",
       "  <thead>\n",
       "    <tr style=\"text-align: right;\">\n",
       "      <th></th>\n",
       "      <th>Model</th>\n",
       "      <th>True Positive</th>\n",
       "      <th>False Positive</th>\n",
       "      <th>True Negative</th>\n",
       "      <th>False Negative</th>\n",
       "      <th>Accuracy</th>\n",
       "    </tr>\n",
       "  </thead>\n",
       "  <tbody>\n",
       "    <tr>\n",
       "      <td>0</td>\n",
       "      <td>Logistic Regression</td>\n",
       "      <td>45254</td>\n",
       "      <td>4325</td>\n",
       "      <td>792</td>\n",
       "      <td>206</td>\n",
       "      <td>0.910414</td>\n",
       "    </tr>\n",
       "    <tr>\n",
       "      <td>1</td>\n",
       "      <td>Gaussian Naive Bayes</td>\n",
       "      <td>45298</td>\n",
       "      <td>4504</td>\n",
       "      <td>613</td>\n",
       "      <td>162</td>\n",
       "      <td>0.907745</td>\n",
       "    </tr>\n",
       "    <tr>\n",
       "      <td>2</td>\n",
       "      <td>Decision Tree Classifier</td>\n",
       "      <td>44701</td>\n",
       "      <td>3094</td>\n",
       "      <td>2023</td>\n",
       "      <td>759</td>\n",
       "      <td>0.923819</td>\n",
       "    </tr>\n",
       "  </tbody>\n",
       "</table>\n",
       "</div>"
      ],
      "text/plain": [
       "                      Model  True Positive  False Positive  True Negative  \\\n",
       "0       Logistic Regression          45254            4325            792   \n",
       "1      Gaussian Naive Bayes          45298            4504            613   \n",
       "2  Decision Tree Classifier          44701            3094           2023   \n",
       "\n",
       "   False Negative  Accuracy  \n",
       "0             206  0.910414  \n",
       "1             162  0.907745  \n",
       "2             759  0.923819  "
      ]
     },
     "execution_count": 20,
     "metadata": {},
     "output_type": "execute_result"
    }
   ],
   "source": [
    "models = [('Logistic Regression', tp_lr, fp_lr, tn_lr, fn_lr, lr_acc),\n",
    "          ('Gaussian Naive Bayes', tp_GNB, fp_GNB, tn_GNB, fn_GNB, GNB_acc),\n",
    "          ('Decision Tree Classifier', tp_DTC, fp_DTC, tn_DTC, fn_DTC, DTC_acc)\n",
    "         ]\n",
    "\n",
    "predict = pd.DataFrame(data = models, columns=['Model', 'True Positive', 'False Positive', 'True Negative',\n",
    "                                               'False Negative', 'Accuracy'])\n",
    "predict"
   ]
  },
  {
   "cell_type": "code",
   "execution_count": 21,
   "metadata": {},
   "outputs": [
    {
     "data": {
      "image/png": "[encoded data removed]",
      "text/plain": [
       "<Figure size 1296x432 with 1 Axes>"
      ]
     },
     "metadata": {
      "needs_background": "light"
     },
     "output_type": "display_data"
    }
   ],
   "source": [
    "f, axe = plt.subplots(1,1, figsize=(18,6))\n",
    "predict.sort_values(by=['Accuracy'], ascending=False, inplace=True)\n",
    "sns.barplot(x='Accuracy', y='Model', data = predict, ax = axe)\n",
    "axe.set_xlabel('Accuracy', size=16)\n",
    "axe.set_ylabel('Model')\n",
    "axe.set_xlim(0,1.0)\n",
    "axe.set_xticks(np.arange(0, 1.1, 0.1))\n",
    "plt.show()"
   ]
  }
 ],
 "metadata": {
  "kernelspec": {
   "display_name": "Python 3",
   "language": "python",
   "name": "python3"
  },
  "language_info": {
   "codemirror_mode": {
    "name": "ipython",
    "version": 3
   },
   "file_extension": ".py",
   "mimetype": "text/x-python",
   "name": "python",
   "nbconvert_exporter": "python",
   "pygments_lexer": "ipython3",
   "version": "3.7.4"
  }
 },
 "nbformat": 4,
 "nbformat_minor": 2
}
